{
 "cells": [
  {
   "cell_type": "code",
   "execution_count": null,
   "id": "f5a266d4",
   "metadata": {},
   "outputs": [],
   "source": [
    "a=0.4\n",
    "def u(n):\n",
    "  if n>=0:\n",
    "    return 1\n",
    "  else: return 0\n",
    "\n",
    "def convolution(n):\n",
    " output=0\n",
    " for k in range(0,11):\n",
    "    output = output+(a**k)*u(k)*u(n-k)\n",
    " return output\n",
    "convolved=[]\n",
    "for i in range(11):\n",
    "  convolved.append(convolution(i))\n",
    "print(convolved)"
   ]
  }
 ],
 "metadata": {
  "kernelspec": {
   "display_name": "Python 3",
   "language": "python",
   "name": "python3"
  },
  "language_info": {
   "codemirror_mode": {
    "name": "ipython",
    "version": 3
   },
   "file_extension": ".py",
   "mimetype": "text/x-python",
   "name": "python",
   "nbconvert_exporter": "python",
   "pygments_lexer": "ipython3",
   "version": "3.11.9"
  }
 },
 "nbformat": 4,
 "nbformat_minor": 5
}
