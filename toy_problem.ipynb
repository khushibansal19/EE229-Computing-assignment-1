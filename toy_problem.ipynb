{
 "cells": [
  {
   "cell_type": "code",
   "execution_count": 1,
   "id": "716d26e7",
   "metadata": {},
   "outputs": [
    {
     "name": "stdout",
     "output_type": "stream",
     "text": [
      "[1.0, 1.4, 1.56, 1.624, 1.6496000000000002, 1.6598400000000002, 1.6639360000000003, 1.6655744000000003, 1.6662297600000004, 1.6664919040000004, 1.6665967616000004]\n"
     ]
    }
   ],
   "source": [
    "alpha = 0.4\n",
    "\n",
    "Convolved = []\n",
    "\n",
    "def UnitStep(n):\n",
    "    if n>=0:\n",
    "        return 1\n",
    "    else:\n",
    "        return 0\n",
    "\n",
    "def Input(n):\n",
    "    return (alpha**n)*UnitStep(n)\n",
    "\n",
    "def Convolution(n):\n",
    "    for i in range(n):\n",
    "        sum = 0\n",
    "        for j in range(12):\n",
    "            sum+= Input(j)*UnitStep(i-j)  \n",
    "        Convolved.append(sum)\n",
    "\n",
    "Convolution(11)\n",
    "print(Convolved)"
   ]
  }
 ],
 "metadata": {
  "kernelspec": {
   "display_name": "Python 3",
   "language": "python",
   "name": "python3"
  },
  "language_info": {
   "codemirror_mode": {
    "name": "ipython",
    "version": 3
   },
   "file_extension": ".py",
   "mimetype": "text/x-python",
   "name": "python",
   "nbconvert_exporter": "python",
   "pygments_lexer": "ipython3",
   "version": "3.11.9"
  }
 },
 "nbformat": 4,
 "nbformat_minor": 5
}
